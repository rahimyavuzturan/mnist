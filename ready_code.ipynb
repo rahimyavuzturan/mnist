{
 "cells": [
  {
   "cell_type": "code",
   "execution_count": null,
   "metadata": {
    "vscode": {
     "languageId": "plaintext"
    }
   },
   "outputs": [],
   "source": [
    "import torch  # PyTorch kütüphanesini içe aktar\n",
    "import torch.nn as nn  # Sinir ağı katmanları için gerekli modül\n",
    "import torch.optim as optim  # Optimizasyon algoritmaları için modül\n",
    "import torchvision  # Görüntü işleme için PyTorch'un modülü\n",
    "import torchvision.transforms as transforms  # Görüntüleri dönüştürmek için modül\n",
    "from torch.utils.data import DataLoader  # Verileri yüklemek için yardımcı sınıf\n"
   ]
  }
 ],
 "metadata": {
  "language_info": {
   "name": "python"
  }
 },
 "nbformat": 4,
 "nbformat_minor": 2
}
