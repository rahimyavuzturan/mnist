{
 "cells": [
  {
   "cell_type": "code",
   "execution_count": 8,
   "metadata": {},
   "outputs": [],
   "source": [
    "import torch  # PyTorch kütüphanesini içe aktar\n",
    "import torch.nn as nn  # Sinir ağı katmanları için gerekli modül\n",
    "import torch.optim as optim  # Optimizasyon algoritmaları için modül\n",
    "import torchvision  # Görüntü işleme için PyTorch'un modülü\n",
    "import torchvision.transforms as transforms  # Görüntüleri dönüştürmek için modül\n",
    "from torch.utils.data import DataLoader  # Verileri yüklemek için yardımcı sınıf\n",
    "import matplotlib.pyplot as plt  # Görselleri göstermek için matplotlib\n",
    "\n",
    "# Cihaz kontrolü: Eğer GPU varsa CUDA kullan, yoksa CPU kullan\n",
    "# CUDA, GPU'ları kullanarak işlemleri hızlandırır\n",
    "device = torch.device(\"cuda\" if torch.cuda.is_available() else \"cpu\")\n"
   ]
  },
  {
   "cell_type": "code",
   "execution_count": 9,
   "metadata": {},
   "outputs": [],
   "source": [
    "# MNIST veri kümesini yükleme ve dönüştürme\n",
    "# MNIST, el yazısı rakamları içeren bir veri kümesidir\n",
    "transform = transforms.Compose([\n",
    "    transforms.ToTensor(),  # Görüntüleri tensörlere (PyTorch'un anladığı formata) çevir\n",
    "    transforms.Normalize((0.5,), (0.5,))  # Verileri normalize et (ortalama 0.5, std 0.5)\n",
    "])  \n",
    "\n",
    "\n",
    "# Eğitim ve test veri kümelerini indir ve uygula\n",
    "train_dataset = torchvision.datasets.MNIST(root='./data', train=True, transform=transform, download=True)\n",
    "test_dataset = torchvision.datasets.MNIST(root='./data', train=False, transform=transform, download=True)\n",
    "\n",
    "# Verileri mini partilere bölerek işleyebilmek için DataLoader kullan\n",
    "train_loader = DataLoader(train_dataset, batch_size=64, shuffle=True)  # Eğitim verisi\n",
    "test_loader = DataLoader(test_dataset, batch_size=64, shuffle=False)  # Test verisi\n",
    "\n",
    "\n"
   ]
  },
  {
   "cell_type": "code",
   "execution_count": null,
   "metadata": {},
   "outputs": [],
   "source": [
    "# Eğitim veri kümesinin bir kısmını görüntüleme\n",
    "examples = iter(train_loader)\n",
    "images, labels = next(examples)\n",
    "\n",
    "print(\"Örnek Görüntülerin Sayısal Değerleri (İlk 6 Görüntü):\")\n",
    "for i in range(6):\n",
    "    print(f'Label: {labels[i].item()}')\n",
    "    print(images[i].squeeze().numpy())  # Tensörü numpy dizisine çevirerek yazdır\n",
    "    print(\"-\" * 50)"
   ]
  },
  {
   "cell_type": "code",
   "execution_count": null,
   "metadata": {},
   "outputs": [
    {
     "data": {
      "image/png": "[encoded data removed]",
      "text/plain": [
       "<Figure size 1000x300 with 6 Axes>"
      ]
     },
     "metadata": {},
     "output_type": "display_data"
    }
   ],
   "source": [
    "fig, axes = plt.subplots(1, 6, figsize=(10, 3))  # 1 satırda 6 resim göster\n",
    "for i in range(6):\n",
    "    axes[i].imshow(images[i].squeeze(), cmap='gray')  # Görüntüyü gri tonlamada göster\n",
    "    axes[i].set_title(f'Label: {labels[i].item()}')\n",
    "    axes[i].axis('off')\n",
    "plt.show()"
   ]
  },
  {
   "cell_type": "code",
   "execution_count": 12,
   "metadata": {},
   "outputs": [],
   "source": [
    "# Basit bir sinir ağı modeli oluşturma\n",
    "class SimpleNN(nn.Module):  # PyTorch'un nn.Module sınıfından türetilmiş bir model\n",
    "    def __init__(self):  # Modelin katmanlarını burada tanımlıyoruz\n",
    "        super(SimpleNN, self).__init__()\n",
    "        self.fc1 = nn.Linear(28*28, 128)  # İlk katman: 28x28 giriş -> 128 nöron\n",
    "        self.relu = nn.ReLU()  # Aktivasyon fonksiyonu: ReLU (negatifleri sıfırlar)\n",
    "        self.fc2 = nn.Linear(128, 10)  # Çıkış katmanı: 128 giriş -> 10 çıkış (0-9 rakamları)\n",
    "    \n",
    "    def forward(self, x):  # Modelin ileri yönlü hesaplama fonksiyonu\n",
    "        x = x.view(-1, 28*28)  # 28x28 görüntüyü düzleştirerek tek boyutlu hale getir\n",
    "        x = self.fc1(x)  # İlk tam bağlı katmandan geçir\n",
    "        x = self.relu(x)  # Aktivasyon fonksiyonunu uygula\n",
    "        x = self.fc2(x)  # Son katmandan geçir\n",
    "        return x  # Çıkışı döndür"
   ]
  },
  {
   "cell_type": "code",
   "execution_count": 13,
   "metadata": {},
   "outputs": [
    {
     "name": "stdout",
     "output_type": "stream",
     "text": [
      "Epoch 1, Loss: 0.3782685935370195\n",
      "Epoch 2, Loss: 0.18694403283059724\n",
      "Epoch 3, Loss: 0.13318857013273722\n",
      "Epoch 4, Loss: 0.1079068005716464\n",
      "Epoch 5, Loss: 0.09207491204341146\n"
     ]
    }
   ],
   "source": [
    "# Modeli oluştur ve cihazda çalıştır (CPU/GPU fark etmeksizin çalışır)\n",
    "model = SimpleNN().to(device)\n",
    "\n",
    "# Kayıp fonksiyonu ve optimizer tanımlama\n",
    "# Kayıp fonksiyonu: CrossEntropyLoss (çok sınıflı sınıflandırmada yaygın)\n",
    "# Optimizasyon algoritması: Adam (hızlı ve etkili bir optimizasyon yöntemi)\n",
    "criterion = nn.CrossEntropyLoss()\n",
    "optimizer = optim.Adam(model.parameters(), lr=0.001)\n",
    "\n",
    "# Modeli eğitme\n",
    "epochs = 5  # Modeli kaç defa tüm veri kümesi üzerinde eğiteceğimiz\n",
    "for epoch in range(epochs):  # Her epoch bir tam eğitim turudur\n",
    "    model.train()  # Modeli eğitim moduna al\n",
    "    running_loss = 0.0  # Kümülatif hata değerini tutmak için değişken\n",
    "    for images, labels in train_loader:  # Eğitim verisi üzerinde döngü\n",
    "        images, labels = images.to(device), labels.to(device)  # Verileri cihaza yükle\n",
    "        \n",
    "        optimizer.zero_grad()  # Önceki hesaplanan gradyanları sıfırla\n",
    "        outputs = model(images)  # Modelden tahmin al\n",
    "        loss = criterion(outputs, labels)  # Gerçek değerlerle kıyaslayarak hata hesapla\n",
    "        loss.backward()  # Hatanın gradyanlarını hesapla\n",
    "        optimizer.step()  # Ağırlıkları güncelle\n",
    "        \n",
    "        running_loss += loss.item()  # Toplam hatayı güncelle\n",
    "    \n",
    "    print(f'Epoch {epoch+1}, Loss: {running_loss/len(train_loader)}')  # Epoch başına hata değerini yazdır\n"
   ]
  },
  {
   "cell_type": "code",
   "execution_count": 14,
   "metadata": {},
   "outputs": [
    {
     "name": "stdout",
     "output_type": "stream",
     "text": [
      "Accuracy: 97.23%\n"
     ]
    }
   ],
   "source": [
    "# Modeli test etme\n",
    "model.eval()  # Modeli test moduna al (bazı katmanlar farklı çalışabilir)\n",
    "correct = 0  # Doğru tahmin sayısını tutan değişken\n",
    "total = 0  # Toplam örnek sayısı\n",
    "torch.no_grad()  # Modeli test ederken gradyan hesaplamasını kapat (hızlı çalışsın)\n",
    "with torch.no_grad():\n",
    "    for images, labels in test_loader:  # Test verisi üzerinde döngü\n",
    "        images, labels = images.to(device), labels.to(device)  # Verileri cihaza yükle\n",
    "        outputs = model(images)  # Modelden tahmin al\n",
    "        _, predicted = torch.max(outputs, 1)  # En yüksek olasılığa sahip sınıfı al\n",
    "        total += labels.size(0)  # Toplam veri sayısını güncelle\n",
    "        correct += (predicted == labels).sum().item()  # Doğru tahminleri say\n",
    "\n",
    "# Modelin doğruluk oranını ekrana yazdır\n",
    "print(f'Accuracy: {100 * correct / total:.2f}%')  # Yüzde olarak doğruluk oranı hesapla"
   ]
  }
 ],
 "metadata": {
  "kernelspec": {
   "display_name": "myenv",
   "language": "python",
   "name": "python3"
  },
  "language_info": {
   "codemirror_mode": {
    "name": "ipython",
    "version": 3
   },
   "file_extension": ".py",
   "mimetype": "text/x-python",
   "name": "python",
   "nbconvert_exporter": "python",
   "pygments_lexer": "ipython3",
   "version": "3.10.16"
  }
 },
 "nbformat": 4,
 "nbformat_minor": 2
}
